{
  "nbformat": 4,
  "nbformat_minor": 0,
  "metadata": {
    "colab": {
      "provenance": []
    },
    "kernelspec": {
      "name": "python3",
      "display_name": "Python 3"
    },
    "language_info": {
      "name": "python"
    }
  },
  "cells": [
    {
      "cell_type": "code",
      "execution_count": 52,
      "metadata": {
        "colab": {
          "base_uri": "https://localhost:8080/"
        },
        "id": "HA0r5Xa5uOeH",
        "outputId": "9514c7c1-8bdb-4287-9f42-a2e6f2431c5d"
      },
      "outputs": [
        {
          "output_type": "stream",
          "name": "stdout",
          "text": [
            "Requirement already satisfied: requests in /usr/local/lib/python3.11/dist-packages (2.32.3)\n",
            "Requirement already satisfied: beautifulsoup4 in /usr/local/lib/python3.11/dist-packages (4.12.3)\n",
            "Requirement already satisfied: PyPDF2 in /usr/local/lib/python3.11/dist-packages (3.0.1)\n",
            "Requirement already satisfied: pdfplumber in /usr/local/lib/python3.11/dist-packages (0.11.5)\n",
            "Requirement already satisfied: transformers in /usr/local/lib/python3.11/dist-packages (4.47.1)\n",
            "Requirement already satisfied: charset-normalizer<4,>=2 in /usr/local/lib/python3.11/dist-packages (from requests) (3.4.1)\n",
            "Requirement already satisfied: idna<4,>=2.5 in /usr/local/lib/python3.11/dist-packages (from requests) (3.10)\n",
            "Requirement already satisfied: urllib3<3,>=1.21.1 in /usr/local/lib/python3.11/dist-packages (from requests) (2.3.0)\n",
            "Requirement already satisfied: certifi>=2017.4.17 in /usr/local/lib/python3.11/dist-packages (from requests) (2024.12.14)\n",
            "Requirement already satisfied: soupsieve>1.2 in /usr/local/lib/python3.11/dist-packages (from beautifulsoup4) (2.6)\n",
            "Requirement already satisfied: pdfminer.six==20231228 in /usr/local/lib/python3.11/dist-packages (from pdfplumber) (20231228)\n",
            "Requirement already satisfied: Pillow>=9.1 in /usr/local/lib/python3.11/dist-packages (from pdfplumber) (11.1.0)\n",
            "Requirement already satisfied: pypdfium2>=4.18.0 in /usr/local/lib/python3.11/dist-packages (from pdfplumber) (4.30.1)\n",
            "Requirement already satisfied: cryptography>=36.0.0 in /usr/local/lib/python3.11/dist-packages (from pdfminer.six==20231228->pdfplumber) (43.0.3)\n",
            "Requirement already satisfied: filelock in /usr/local/lib/python3.11/dist-packages (from transformers) (3.17.0)\n",
            "Requirement already satisfied: huggingface-hub<1.0,>=0.24.0 in /usr/local/lib/python3.11/dist-packages (from transformers) (0.27.1)\n",
            "Requirement already satisfied: numpy>=1.17 in /usr/local/lib/python3.11/dist-packages (from transformers) (1.26.4)\n",
            "Requirement already satisfied: packaging>=20.0 in /usr/local/lib/python3.11/dist-packages (from transformers) (24.2)\n",
            "Requirement already satisfied: pyyaml>=5.1 in /usr/local/lib/python3.11/dist-packages (from transformers) (6.0.2)\n",
            "Requirement already satisfied: regex!=2019.12.17 in /usr/local/lib/python3.11/dist-packages (from transformers) (2024.11.6)\n",
            "Requirement already satisfied: tokenizers<0.22,>=0.21 in /usr/local/lib/python3.11/dist-packages (from transformers) (0.21.0)\n",
            "Requirement already satisfied: safetensors>=0.4.1 in /usr/local/lib/python3.11/dist-packages (from transformers) (0.5.2)\n",
            "Requirement already satisfied: tqdm>=4.27 in /usr/local/lib/python3.11/dist-packages (from transformers) (4.67.1)\n",
            "Requirement already satisfied: fsspec>=2023.5.0 in /usr/local/lib/python3.11/dist-packages (from huggingface-hub<1.0,>=0.24.0->transformers) (2024.10.0)\n",
            "Requirement already satisfied: typing-extensions>=3.7.4.3 in /usr/local/lib/python3.11/dist-packages (from huggingface-hub<1.0,>=0.24.0->transformers) (4.12.2)\n",
            "Requirement already satisfied: cffi>=1.12 in /usr/local/lib/python3.11/dist-packages (from cryptography>=36.0.0->pdfminer.six==20231228->pdfplumber) (1.17.1)\n",
            "Requirement already satisfied: pycparser in /usr/local/lib/python3.11/dist-packages (from cffi>=1.12->cryptography>=36.0.0->pdfminer.six==20231228->pdfplumber) (2.22)\n"
          ]
        }
      ],
      "source": [
        "!pip install requests beautifulsoup4 PyPDF2 pdfplumber transformers\n",
        "import requests\n",
        "from bs4 import BeautifulSoup\n",
        "import PyPDF2\n",
        "import os\n",
        "import re\n",
        "import pdfplumber\n",
        "import csv\n",
        "from transformers import MarianMTModel, MarianTokenizer"
      ]
    },
    {
      "cell_type": "markdown",
      "source": [
        "# Adopción y Divorcio: Web Scrapping"
      ],
      "metadata": {
        "id": "g0xK_fiV2Rak"
      }
    },
    {
      "cell_type": "code",
      "source": [
        "url_adopcion: str = \"https://consmardelplata.esteri.it/es/servizi-consolari-e-visti/servizi-per-il-cittadino-italiano/altri-servizi/adopciones/\"\n",
        "\n",
        "headers: dict[str, str] = {\n",
        "    \"User-Agent\": \"Mozilla/5.0 (Windows NT 10.0; Win64; x64) AppleWebKit/537.36 (KHTML, like Gecko) Chrome/110.0 Safari/537.36\"\n",
        "}\n",
        "response_adopcion: requests = requests.get(url_adopcion, headers=headers)\n",
        "\n",
        "soup_adopcion: BeautifulSoup = BeautifulSoup(response_adopcion.content, \"html.parser\")\n",
        "entry_content_adopcion: str = soup_adopcion.find(\"div\", class_=\"entry-content\")\n",
        "\n",
        "adopcion: str = entry_content_adopcion.get_text(separator=\"\").strip()"
      ],
      "metadata": {
        "id": "LACg1lOuupzT"
      },
      "execution_count": 2,
      "outputs": []
    },
    {
      "cell_type": "code",
      "source": [
        "print(adopcion)"
      ],
      "metadata": {
        "colab": {
          "base_uri": "https://localhost:8080/"
        },
        "id": "b1muMB-3yulg",
        "outputId": "f584c5f2-1a51-49c3-a513-f83f7ab5ce7d"
      },
      "execution_count": 3,
      "outputs": [
        {
          "output_type": "stream",
          "name": "stdout",
          "text": [
            "Informativa sulla protezione delle persone fisiche con riguardo al trattamento dei dati personali\n",
            "RECONOCIMIENTO DE SENTENCIAS DE ADOPCION ARGENTINAS EN ITALIA\n",
            "Los ciudadanos italianos inscriptos en AIRE de un Comune italiano, pueden solicitar el reconocimiento de las sentencias de adopción de sus hijos al Tribunal de Menores italiano competente.\n",
            "El trámite de reconocimiento no es totalmente automático; la solicitud puede ser denegada por el Tribunal italiano competente por cuestiones tanto de forma como de fondo (quedando abierta la instancia de apelación) y puede demorar un tiempo considerable.\n",
            "Si la adopción plena se produjo antes de que el adoptado cumpliera 18 años, una vez que se expide favorablemente el Tribunal de Menores italiano, se envía dicho dictamen y el acta de nacimiento del adoptado al Comune de inscripción del adoptante de ciudadanía italiana.\n",
            "En caso de adopción posterior al cumplimiento de los 18 años del adoptado, o si los adoptantes de ciudadanía italiana hubieren fallecido, se ruega consultar previamente el caso en la Oficina de Ciudadanía de este Consulado.\n",
            "DOCUMENTACION A PRESENTAR:\n",
            "1) ACTA (no certificado) de nacimiento argentina con anotaciòn marginal referente a la adopciòn, traducida al italiano;\n",
            "2) Testimonio de la sentencia de adopción plena expedida por el Tribunal argentino, legalizada por el Ministerio de Relaciones Exteriores Argentino (Arenales n. 821 Buenos Aires) y traducida al italiano por traductor público debido a la complejidad del texto jurídico;\n",
            "En el texto del testimonio deben constar los siguientes datos:\n",
            "a) los datos completos de adoptantes y adoptado: nombres, apellidos, lugar y fecha de nacimiento\n",
            "b) fecha en que la sentencia pasò a cosa juzgada.\n",
            "En el caso en que no figuren deberà solicitarse al mismo Juzgado que expida una nota ampliatoria con los datos mencionados.\n",
            "En este caso ambos documentos pueden ser legalizados y traducidos en una ùnica soluciòn.\n",
            "3) DNI actualizado de adoptantes y adoptado, en original y copia.\n",
            "Para este tràmite y/o eventuales consultas sobre el mismo, el interesado mayor de 18 años deberà consultar por email la oficina «cittadinanza»: cit.mardelplata@esteri.it o turni.mardelplata@esteri.it .\n",
            "En cambio si el adoptado es menor de 18 años, los padres deberàn presentarse ante la oficina “anagrafe – stato civile” con turno (ver: prenota on line).\n"
          ]
        }
      ]
    },
    {
      "cell_type": "code",
      "source": [
        "url_divorcio: str = 'https://conslaplata.esteri.it/es/servizi-consolari-e-visti/servizi-per-il-cittadino-italiano/stato-civile/reconocimiento-de-sentencias-extranjeras/'\n",
        "\n",
        "response_divorcio: requests = requests.get(url_divorcio, headers=headers)\n",
        "soup_divorcio: BeautifulSoup = BeautifulSoup(response_divorcio.content, \"html.parser\")\n",
        "entry_content_divorcio: str = soup_divorcio.find(\"div\", class_=\"entry-content\")\n",
        "divorcio: str = entry_content_divorcio.get_text(separator='').strip()\n",
        "\n",
        "print(divorcio)"
      ],
      "metadata": {
        "colab": {
          "base_uri": "https://localhost:8080/"
        },
        "id": "wXlhR8KDzgkn",
        "outputId": "1111b826-e708-4bd3-d685-c40a5ee119a8"
      },
      "execution_count": 4,
      "outputs": [
        {
          "output_type": "stream",
          "name": "stdout",
          "text": [
            "Divorcio\n",
            "Para la validación de la sentencia de divorcio, deberá presentarse la siguiente documentación:\n",
            "\n",
            "fotocopia legalizada de la sentencia de divorcio.\n",
            "\n",
            "Para el reconocimiento en Italia de las sentencias de divorcio argentinas, los interesados deben presentar la fotocopia legalizada de la sentencia de divorcio. Las legalizaciones deben efectuarse en el Juzgado donde ha sido expedida la sentencia y en el Ministerio de Relaciones Exteriores, Comercio Internacional y Culto (con la Apostilla de la Convención de La Haya del 5 de octubre de 1961).\n",
            "El documento debe contener:\n",
            "\n",
            "todos los elementos esenciales solicitados en una sentencia de divorcio según las leyes italianas (eventuales apelaciones, acuerdos patrimoniales y/o relativos a los hijos menores, notificaciones del inicio del procedimiento, rebeldía, decisión final)\n",
            "los datos que identifiquen a los interesados (fecha y lugar de nacimiento, domicilio a la fecha del divorcio)\n",
            "la indicación de que es una sentencia FIRME o CONSENTIDA o EJECUTORIADA o que tiene carácter de COSA JUZGADA\n",
            "debe indicar la fecha en la que adquirió dicho carácter\n",
            "\n",
            "En el caso en el cual la sentencia no exprese lo arriba señalado será necesario presentar el Certificado ampliatorio emitido por el mismo Tribunal, según este modelo . Este certificado también deberá contar con la legalización del Juzgado y del Ministerio de Relaciones Exteriores, Comercio Internacional y Culto (con la Apostilla de la Convención de La Haya del 5 de octubre 1961).\n",
            "La sentencia debe presentarse acompañada de:\n",
            "• respectiva traducción al italiano. La traducción deberá ser efectuada por un traductor público, cuya firma debe estar legalizada por el Colegio de Traductores Públicos e Intérpretes de pertenencia\n",
            "\n",
            "fotocopia del último DNI en curso di validez\n",
            "formulario de solicitud de transcripción de la sentencia de divorcio\n",
            "\n",
            "IMPORTANTE:\n",
            "Toda la documentación deberá ser enviada por correo a la Oficina de Anagrafe/Stato Civile de este Consulado General. Se sugiere enviarla por carta certificada con aviso de retorno.\n",
            " \n",
            "Adopciones\n",
            "Para el reconocimiento en Italia de las sentencias de adopción argentinas, los interesados deben presentar:\n",
            "\n",
            "acta de nacimiento con el nombre de los padres adoptivos (obligatorio) y de los biológicos (obligatorio)\n",
            "fotocopia del último DNI del menor y de los progenitores en curso de validez con domicilio actualizado y coincidente; los progenitores deberán demostrar con el propio DNI 2 años de residencia en el mismo domicilio;\n",
            "Sentencia completa en original (deberá contener: AUTOS; VISTOS; CONSIDERANDO; FALLO), la sentencia debe especificar el estado de abandono del menor o la autorización del o de los padres biológicos a los fines de la adopción. En la sentencia (o en una declaración ampliatoria del Juzgado) debe especificarse que es una sentencia FIRME o CONSENTIDA o EJECUTORIADA o que tiene carácter de COSA JUZGADA y la fecha en la que adquirió carácter de cosa juzgada.\n",
            "Toda la documentación solicitada, presentada en original, debe contar con la legalización del mismo Tribunal y del Ministerio de Relaciones Exteriores, Comercio Internacional y Culto con la Apostilla de la Convención de La Haya del 5 de octubre 1961\n",
            "traducción al italiano por un traductor público, cuya firma debe estar legalizada por el Colegio de Traductores Públicos e Intérpretes de pertenencia\n",
            "formulario de solicitud de transcripción de la sentencia de adopción\n",
            "\n",
            " \n",
            "IMPORTANTE:\n",
            "Toda la documentación deberá ser enviada por correo a la Oficina de Anagrafe/Stato Civile de este Consulado General. Se sugiere enviarla por carta certificada con aviso de retorno.\n"
          ]
        }
      ]
    },
    {
      "cell_type": "code",
      "source": [],
      "metadata": {
        "id": "zTqhFAU710jm"
      },
      "execution_count": 4,
      "outputs": []
    },
    {
      "cell_type": "markdown",
      "source": [
        "# Circolaire K28, Circolaire K32 y Guía desde PDF\n",
        "- Lectura de PDF con PyPDF y pdfplumber\n",
        "- Traducción de leyes Italianas a español."
      ],
      "metadata": {
        "id": "r3DjsQxl2VvZ"
      }
    },
    {
      "cell_type": "code",
      "source": [
        "PATH: str = os.getcwd()\n",
        "\n",
        "PATH_circolareK28: str = os.path.join(PATH, \"CircolareK28.pdf\")\n",
        "PATH_circolare32: str = os.path.join(PATH, \"Circolare32.pdf\")\n",
        "PATH_guia: str = os.path.join(PATH,\"guia.pdf\")"
      ],
      "metadata": {
        "id": "CviyfT892djz"
      },
      "execution_count": 5,
      "outputs": []
    },
    {
      "cell_type": "code",
      "source": [
        "all_pdf: str = [PATH_circolare32, PATH_circolareK28, PATH_guia]\n",
        "\n",
        "def pdf_to_text(pdf_path: str) -> str:\n",
        "    with open(pdf_path, \"rb\") as file:\n",
        "        reader = PyPDF2.PdfReader(file)\n",
        "        text: str = \"\"\n",
        "        for page in reader.pages:\n",
        "            text += page.extract_text()\n",
        "    return text\n",
        "\n",
        "def pdf_to_text_plumber(pdf_path: str) -> str:\n",
        "  with pdfplumber.open(PATH_circolare32) as pdf:\n",
        "      text = ''\n",
        "      for page in pdf.pages:\n",
        "          text += page.extract_text()\n",
        "      return text\n",
        "\n",
        "circolareK28: str = pdf_to_text(PATH_circolareK28)\n",
        "circolare32: str = pdf_to_text(PATH_circolare32)\n",
        "guia: str = pdf_to_text(PATH_guia)"
      ],
      "metadata": {
        "id": "ydnIJuHx47gw"
      },
      "execution_count": 6,
      "outputs": []
    },
    {
      "cell_type": "code",
      "source": [
        "guia_filtrada = guia.replace('\\n','')\n",
        "patron = r\"¿TENGO ASCENDENCIA ITALIANA\\?.*?EN SACAR CIUDADANÍA ITALIANA, AYUDARTE ES UN PRIVILEGIO\\.\"\n",
        "guia_filtrada = re.search(patron, guia_filtrada, re.DOTALL)\n",
        "guia_filtrada = guia_filtrada.group(0)\n",
        "\n",
        "len(guia_filtrada)"
      ],
      "metadata": {
        "colab": {
          "base_uri": "https://localhost:8080/"
        },
        "id": "tyQjdo25CCD2",
        "outputId": "0c73f9cd-ca59-4927-c4a3-8c6cb20dcfd2"
      },
      "execution_count": 28,
      "outputs": [
        {
          "output_type": "execute_result",
          "data": {
            "text/plain": [
              "19426"
            ]
          },
          "metadata": {},
          "execution_count": 28
        }
      ]
    },
    {
      "cell_type": "code",
      "source": [
        "def write_csv(text: str, name) -> None:\n",
        "    with open(f'{name}.csv', \"w\", newline='') as file:\n",
        "        writer = csv.writer(file)\n",
        "        writer.writerow(text)"
      ],
      "metadata": {
        "id": "XW0N4iHMORpt"
      },
      "execution_count": 53,
      "outputs": []
    },
    {
      "cell_type": "code",
      "source": [
        "write_csv(guia_filtrada, 'guia')"
      ],
      "metadata": {
        "id": "sVhYEPucO0_O"
      },
      "execution_count": 55,
      "outputs": []
    },
    {
      "cell_type": "markdown",
      "source": [
        "## Traducción de Italiano a Español"
      ],
      "metadata": {
        "id": "sWSOFwcpETRD"
      }
    },
    {
      "cell_type": "code",
      "source": [
        "model_name = \"Helsinki-NLP/opus-mt-it-es\"\n",
        "tokenizer = MarianTokenizer.from_pretrained(model_name)\n",
        "model = MarianMTModel.from_pretrained(model_name)\n",
        "\n",
        "def translate_text(text, model, tokenizer):\n",
        "    sentences = text.split('\\n')\n",
        "    translated_sentences = []\n",
        "    for sentence in sentences:\n",
        "        inputs = tokenizer(sentence, return_tensors=\"pt\", max_length=512, truncation=True)\n",
        "\n",
        "        translated = model.generate(**inputs)\n",
        "\n",
        "        translated_text = tokenizer.decode(translated[0], skip_special_tokens=True)\n",
        "        translated_sentences.append(translated_text)\n",
        "\n",
        "    full_translation = ' '.join(translated_sentences)\n",
        "    return full_translation\n",
        "\n"
      ],
      "metadata": {
        "colab": {
          "base_uri": "https://localhost:8080/"
        },
        "id": "xbmBG4A8DQXN",
        "outputId": "aa228f18-788d-426f-e317-255c4c0a558a"
      },
      "execution_count": 46,
      "outputs": [
        {
          "output_type": "stream",
          "name": "stderr",
          "text": [
            "/usr/local/lib/python3.11/dist-packages/transformers/models/marian/tokenization_marian.py:175: UserWarning: Recommended: pip install sacremoses.\n",
            "  warnings.warn(\"Recommended: pip install sacremoses.\")\n"
          ]
        }
      ]
    },
    {
      "cell_type": "code",
      "source": [
        "circolareK28_traducido = translate_text(circolareK28, model, tokenizer)\n",
        "circolare32_traducido = translate_text(circolare32, model, tokenizer)"
      ],
      "metadata": {
        "id": "yG8lWgZaG684"
      },
      "execution_count": 47,
      "outputs": []
    },
    {
      "cell_type": "code",
      "source": [
        "circolare32_traducido"
      ],
      "metadata": {
        "colab": {
          "base_uri": "https://localhost:8080/",
          "height": 410
        },
        "id": "-KK7yZ9QH761",
        "outputId": "dcec7e49-4487-4fbd-b5b9-65aab3e25935"
      },
      "execution_count": 48,
      "outputs": [
        {
          "output_type": "execute_result",
          "data": {
            "text/plain": [
              "':\\' Departamento de Asuntos Internos y Territoriales Dirección Central de Servicios Demográficos 1 3 DE JUNIO DE 2001 Roma, :s CIRCOLAR N°, 2... - A LOS PREFECTOS DE LA REPÚBLICA SUS SIENTOS - AL COMISARIO DEL GOBIERNO PARA LA PROVINCIA DE 39100 8 O L Z A N O - AL COMISARIO DEL GOBIERNO PARA LA PROVINCIA DE 38100 T R E N T O - AL PRESIDENTE DE LA JUNTA REGIONAL DE LA VALLE DE AOSTA 11100 A O S T A y, por conocimiento: - AL COMISARIO DEL ESTADO PARA LA REGIÓN SICILIA 90100 P A L E R M O - AL REPRESENTANTE DEL GOBIERNO PARA LA REGIÓN DE SARDEÑA 09100 C A G L IA R I OBJETO: Legge 28 maggio 2007, n. 68. Supresión del permiso de residencia para el turismo. Inscripción anagráfica de los descendientes de ciudadanos italianos para Nacimiento. En el Diario Oficial no 126, de 10 de junio de 2007, se publicó la Ley. 28 de mayo de 2007, no 68, entrada en vigor el día siguiente, por el que se establece \"Disciplina dei estancias de corta duración de extranjeros para visitas, negocios, turismo y estudio\".Departamento de Asuntos Internos y Territoriales Dirección Central de Servicios Demográficos \\':\\'-. El artículo 1 de la Ley prevé-èfie para estancias de menos de tres meses no es Se requiere permiso de residencia, pero es necesaria una declaración de presencia: los extranjeros que no proceden de países del espacio Schengen hacen la declaración de presencia en la Autoridad Fronteriza en el momento de la entrada, mientras que los extranjeros procedentes del espacio Schengen declaran su presencia en el Señor, dentro de ocho días desde la entrada. El recibo de dicha declaración, hecha por los interesados en los sentidos anteriormente expuestos, se Considera que puede constituir un título útil a efectos de la inscripción anagráfica de los que: pretenden iniciar en Italia el procedimiento para el reconocimiento de la ciudadanía \"jure Sanguinis\" en relación con la circular no 29 (2002). En efecto, la declaración es el cumplimiento que permite a los extranjeros permanecer regularmente en Italia durante un período de tres meses o durante el menor período en su caso, el visado de entrada. Asimismo, se considera que, para las solicitudes anteriores de permiso de residencia de -turismo, presentadas a través de las oficinas de correos, que el recibo de presentación de la la Oficina Postal pueda constituir un documento adecuado para obtener la inscripción anagráfica destinada al rescate de la ciudadanía. Las SS.LL. por favor dimitan la presente circular a todas las administraciones municipales. MLlrp/3-C(4.6.2007)'"
            ],
            "application/vnd.google.colaboratory.intrinsic+json": {
              "type": "string"
            }
          },
          "metadata": {},
          "execution_count": 48
        }
      ]
    },
    {
      "cell_type": "code",
      "source": [
        "circolareK28_traducido"
      ],
      "metadata": {
        "colab": {
          "base_uri": "https://localhost:8080/",
          "height": 1000
        },
        "id": "V2J4HL0fHjNM",
        "outputId": "f504076e-3324-4ace-90b1-4ed4877dc6ef"
      },
      "execution_count": 51,
      "outputs": [
        {
          "output_type": "execute_result",
          "data": {
            "text/plain": [
              "'Circulación K.21.1 (1991) La Circulación K.21.1 para los Alcaldes en materia de ciudadanía - No, no, no, no, no, no, no, no, no, no, no, no, no, no, no, no, no, no, no, no, no, no, no, no, no, no, no, no. Circulación no K. 28.1 8 de abril de 1991 del Ministerio del Interior - No, no, no, no, no, no, no, no, no, no, no, no, no, no, no, no, no, no, no, no, no, no, no, no, no, no, no, no. Reconocimiento de la posesión del estatuto civitatis italiano a los ciudadanos extranjeros de cepa italiana - No, no, no, no, no, no, no, no, no, no, no, no, no, no, no, no, no, no, no, no, no, no, no, no, no, no, no, no. Se ha podido constatar que cada vez son más las demandas de En el caso de las ayudas a la construcción naval, las ayudas a la construcción naval y a la mejora de las condiciones de vida y de vida de los trabajadores, así como las ayudas a la construcción naval y a la mejora de las condiciones de vida y de trabajo, así como las ayudas a la construcción naval y a la mejora de las condiciones de vida y de trabajo y de trabajo, así como a la mejora de las condiciones de vida y de trabajo. situación de nacionalidad de personas procedentes de países extranjeros (en particular, de Argentina, pero también de Brasil o de los Estados Unidos) y provistos de pasaporte extranjeros, que reivindican la propiedad del estatuto civitatis italiano. En efecto, como es sabido, en virtud de la operación simultánea de la combinación de los artículos 1 y 7 de la Ley de 13 de junio de 1912, n. 555 y de las disposiciones vigentes en la materia de nacionalidad de numerosos países exteriores de la antigua emigración italiana (por ejemplo, todos los Estados del continente americano, Australia, etc.) atributivos iure soli del status civitatis. La prole nacida en el territorio del Estado de emigración (Argentina, Brasil, Uruguay, Estados Unidos de América, Canadá, Australia, Venezuela, etc.) de padre ciudadano italiano adquiría del nacimiento la posesión tanto de la ciudadanía italiana (en la nacionalidad del Estado de nacimiento y permanecía en la También en el caso de que el padre, durante la edad infantil, cambiara ciudadanía naturalizandose. extranjero. - No, no, no, no, no, no, no, no, no, no, no, no, no, no, no, no, no, no, no, no, no, no, no, no, no, no, no, no. Al mismo tiempo, también las personas nacidas en un Estado extranjero que atribuyen la ciudadanía iure sola y reconocida por el padre ciudadano o cuya paternidad haya sido se declara judicialmente verter en la misma situación de doble ciudadanía. - No, no, no, no, no, no, no, no, no, no, no, no, no, no, no, no, no, no, no, no, no, no, no, no, no, no, no, no. De ello se deriva la posibilidad concreta de que los descendientes de segunda y cuarta la generación y más allá de nuestros emigrantes sean invertidos de la ciudadanía italiana. Esta posibilidad se ha extendido aún más para los miembros de familias de origen antiguo Italia que nacieron después del 1 de enero de 1948 en la medida en que, a partir de dicha fecha, deben ser considerados, según el dictado de la sentencia n° 30 de 9 de febrero 1983 del Tribunal Constitucional, ciudadanos italianos en el momento de su nacimiento o que hayan sido reconocidos por la madre o cuya maternidad haya sido declarada judicialmente. De ello se deduce que los descendientes de nuestra emigrante también deben considerarse ciudadanos. Italianos iure sanguininis en derivación materna siempre que nazcan después del 1 de enero de 1948, fecha de entrada en vigor de la Constitución Republicana. - No, no, no, no, no, no, no, no, no, no, no, no, no, no, no, no, no, no, no, no, no, no, no, no, no, no, no, no. Se hace, sin embargo, presente que el reconocimiento de la posesión del status civitatis italiano a la citada categoría de personas debe estar supeditada a la aparición de determinadas las condiciones y la comprobación documentada de determinadas circunstancias esenciales. - No, no, no, no, no, no, no, no, no, no, no, no, no, no, no, no, no, no, no, no, no, no, no, no, no, no, no, no. 1. Condiciones previas para el reconocimiento de la ciudadanía italiana . En primer lugar todo es necesario aclarar que, debido a la eventual posesión del status civitatis italiano ser certificado por el alcalde del municipio italiano de residencia, podrá se iniciará el procedimiento correspondiente a instancia de los interesados, únicamente cuando: Estas personas están inscritas en el registro de la población residente de un municipio Italiano. Por otra parte, la inscripción anagráfica de estas personas, entra en Italia con pasaporte extranjero, debe seguir las modalidades de la inscripción en el registro de la población residente de extranjeros y supone, por otra parte, de los interesados, el cumplimiento de los requisitos establecidos en las disposiciones vigentes Por otra parte, en el caso de que la inscripción anagráfica de las mencionadas empresas sea objeto de un examen, el Tribunal de Justicia de las Comunidades Europeas podrá decidir, en el plazo de dos meses a partir de la fecha de entrada en vigor del presente Reglamento, que la inscripción en el Registro de las empresas de que se trate en el Diario Oficial de las Comunidades Europeas o en el Diario Oficial de las Comunidades Europeas o en el Diario Oficial de las Comunidades Europeas o en el Diario Oficial de las Comunidades Europeas o en el Diario Oficial de las Comunidades Europeas o en el Diario Oficial de las Comunidades Europeas o en el Diario Oficial de las Comunidades Europeas o en el Diario Oficial de las Comunidades Europeas o en el Diario Oficial de las Comunidades Europeas o en el Diario Oficial de las Comunidades Europeas o en el Diario Oficial de las Comunidades Europeas o en el Diario Oficial de las Comunidades Europeas o en el Diario Oficial de las Comunidades Europeas o en el Diario Oficial de las Comunidades Europeas o en el Diario Oficial de las instituciones de las Comunidades Europeas, el Diario Oficial de la Unión Europea o en el Diario Oficial de las Comunidades Europeas, el Diario Oficial de las Comunidades Europeas o en el Diario Oficial de la Unión Europea o en el Diario Oficial de la Unión Europea. Las personas no resultaron ser posibles, ya que no se les permite contar entre ellas. población residente según el concepto previsto en el artículo 3 del D.P.R. 30 de mayo 1989, n°123, el procedimiento de reconocimiento de la posesión del estatuto civitatis Italiano deberá ser completada, a instancia propia, por la Representación Consular italiano competente en relación con la localidad extranjera de estancia habitual de los sujetos reivindicantes la propiedad de la ciudadanía italiana. - No, no, no, no, no, no, no, no, no, no, no, no, no, no, no, no, no, no, no, no, no, no, no, no, no, no, no, no. 2. Procedimiento para el reconocimiento de la ciudadanía italiana. Las instancias de reconocimiento de la ciudadanía italiana ex artículo 1 de la Ley 13 junio 1912, n.555 deberán dirigirse al alcalde del municipio italiano de residencia, es decir, al Cónsul italiano en el marco de cuya circunscripción consular reside el extranjero original italiano. Deberán ir acompañadas de la documentación siguiente: A. extracto del acta de nacimiento del buque italiano emig rato en el extranjero expedido por el Municipio italiano donde nació; B. Actas de nacimiento, con traducción oficial italiana, de todos sus descendientes en línea recta, incluido el de la persona reivindicante la posesión de la nacionalidad italiana; C. Acta de matrimonio del inmigrado italiano al extranjero, dotada de traducción oficial italiano si está formado en el extranjero; D. actos de matrimonio de sus descendientes, en línea recta, incluyendo el de los los padres de la persona que reivindica la posesión de la ciudad italiana; E. Certificado expedido por las autoridades competentes del Estado extranjero de emigración, dotada de una traducción oficial en lengua italiana, que acredite que: Yo era italiano en su tiempo emigrado de Italia no adquirió la ciudadanía del Estado extranjero de emigración antes del nacimiento del ascendente del interesado; F. Certificado expedido por la autoridad consular competente italiana que certifica que: que ni los ascendentes en línea directa ni la persona que reivindica la posesión de la ciudad italiana han renunciado alguna vez a los términos del art. 7 de la Ley no 555, de 13 de junio de 1912. G. Certificado de residencia. - No, no, no, no, no, no, no, no, no, no, no, no, no, no, no, no, no, no, no, no, no, no, no, no, no, no, no, no. Se precisa que la instancia, presentada en Italia, deberá estar redactada en papel legal y que certificados suministrados como complemento de la misma, cuando expedidos en Italia por autoridades italianas, deberán fabricarse de conformidad con las disposiciones vigentes en materia de marcado. certificados expedidos por autoridades extranjeras deberán estar redactados en papel simple y A menos que se prevea la exención de la legalización en Los mismos documentos deberán ir acompañados de una traducción oficial en lengua italiana, que, si se presentan los mismos documentos, deberán ir acompañados de una traducción oficial en lengua italiana. en Italia, deberá estar redactada en papel de marca. - No, no, no, no, no, no, no, no, no, no, no, no, no, no, no, no, no, no, no, no, no, no, no, no, no, no, no, no. Se hace, una vez más, presente que, con el fin de poder determinar de manera completa la falta de ejercicio por parte de los demandantes de la posesión de la nacionalidad italiana de la facultad de renunciar a ella ex art.7 de la llamada Ley n° 555/1912 se rinde es necesario, por una parte, llevar a cabo las investigaciones adecuadas en el municipio italiano de origen o de la última residencia del Estado italiano emigrado al extranjero o en el municipio de Roma y, por otro lado, póngase en contacto directamente con todas las Representaciones Consulares Italiano competente para las distintas localidades extranjeras en las que las personas en cuestión tengan o, en su caso, consultar oportunamente al Ministerio de Asuntos Exteriores. Dirección General de Inmigración y Asuntos Sociales los empleados Oficinas Consolares interesados. - No, no, no, no, no, no, no, no, no, no, no, no, no, no, no, no, no, no, no, no, no, no, no, no, no, no, no, no. Los Sres. Alcaldes, también verifican el fundamento de la pretensión formulada por los momentos a verse atribuido iure sanguininis la ciudadanía italiana , tendrán la transcripción de los actos de Estado civil relativos a los sujetos reconocidos nuestros compatriotas y podrán proceder a la expedición de la certificación de nacionalidad y a los demás en consecuencia , serán de competencia . - No, no, no, no, no, no, no, no, no, no, no, no, no, no, no, no, no, no, no, no, no, no, no, no, no, no, no, no. Por último, los Sres. Alcaldes querrán dar a conocer las decisiones adoptadas. a las SS.LL. a las autoridades locales de P.S. y a este Ministerio. En cambio, en el caso de que surgieran dudas sobre la situación real de la ciudadanía de los Requerimos nuestro estatus civitatis. Ministerio transmitiendo su cartaje. Difundir las instrucciones oportunas a los Alcaldes de los Municipios de la Provincia y de proporcionar seguro. - No, no, no, no, no, no, no, no, no, no, no, no, no, no, no, no, no, no, no, no, no, no, no, no, no, no, no, no. PROCEDIMIENTOS PARA LA RECONOCIMIENTO DE LA CIUDADANÍA ITALIANA EXTRANJEROS DORIGINE ESPAÑOL - No, no, no, no, no, no, no, no, no, no, no, no, no, no, no, no, no, no, no, no, no, no, no, no, no, no, no, no. Con la circular no K.21.1 del 8 de abril de 1991, el Ministerio del Interior tuvo la oportunidad de tomar en consideración las situaciones de los extranjeros que, perteneciendo a la cepa Italiano, pidan el reconocimiento de la ciudadanía italiana por descendencia. En el momento de su promulgación, la circunvalación debía considerarse de algún modo inútil, Sólo da indicaciones totalmente coherentes con las que debían ser procedimientos consolidados, ya que no hace otra cosa que organizar de manera sistemáticamente lo que siempre se debería haber hecho, sobre la base de las Por consiguiente, la Comisión considera que, en la medida en que se trata de una cuestión de orden, la Comisión no puede aceptar las enmiendas presentadas por la Comisión de Medio Ambiente, Salud Pública y Protección del Consumidor, en la medida en que la Comisión de Medio Ambiente, Salud Pública y Protección del Consumidor no puede aceptar las enmiendas presentadas por la Comisión de Medio Ambiente, Salud Pública y Protección del Consumidor, así como las enmiendas presentadas por la Comisión de Medio Ambiente, Salud Pública y Protección del Consumidor, así como las enmiendas presentadas por la Comisión de Medio Ambiente, Salud Pública y Protección del Consumidor, así como por la Comisión de Medio Ambiente, Salud Pública y Protección del Consumidor y por la Comisión de Medio Ambiente, Salud Pública y Protección del Consumidor, así como por la Comisión de Medio Ambiente, Salud Pública y Protección del Consumidor, presentadas por la Comisión de Medio Ambiente, Salud Pública y Protección del Consumidor, de la Comisión de Medio Ambiente, Salud Pública y Protección del Consumidor, de la Comisión de Medio Ambiente, Salud Pública y Protección del Consumidor, Salud Pública y Protección del Consumidor, y Protección del Consumidor. siempre gravado con los ciudadanos italianos que se encontraban en el extranjero. Sin embargo, las indicaciones de la circular permitieron volver a proponer la claridad que, evidentemente, era Se ha perdido, tal vez debido a comportamientos al menos ligeros. Se trata de una cuestión que parece volver a surgir, de modo que es conveniente Reanudarla con el fin de precisar los procedimientos que deben seguirse, incluso teniendo en cuenta tanto lo que se ha hecho. Modificación de la Ley de ciudadanía, Ley n° 91, de 5 de febrero de 1992 del regolamento relativo (decreto del Presidente de la República de 12 de octubre de 1993, n. 572) y, más recientemente, las innovaciones derivadas de la entrada en vigor del Decreto del Presidente de la República de 3 de noviembre de 2000, n° 2001. proponer los elementos de procedimiento necesarios e insustituibles para el reconocimiento de la condición de nacionalidad italiana de estas personas, precisando que, en cada En el caso de autos, el procedimiento correspondiente se incoa únicamente a instancia de la parte que le haya presentado la solicitud. Interés. - No, no, no, no, no, no, no, no, no, no, no, no, no, no, no, no, no, no, no, no, no, no, no, no, no, no, no, no. Presentación de la instancia A) La instancia deberá redactarse ordinariamente tras el cumplimiento del impuesto de timbre; con arreglo a la regla general para la cual cualquier instancia dirigida a una administración destinada a obtener una medida administrativa está sujeta a al impuesto de timbre desde el origen. 1) La instancia debe ser presentada al alcalde, Oficial del Gobierno, del municipio de residencia habitual, es decir, en el que se ha solicitado y obtenido la inscripción anagráfica, y existe la residencia legal, tal como se define en la letra a) del apartado 2 del artículo 1, Presidente de la República de 12 de octubre de 1993, n° 572. A efectos de inscripción en el registro de la población residente, el interesado debe presentar el pasaporte, el permiso de residencia (artículo 6, párrafo 7 D. Lgs. 25) julio de 1998, n° 286), así como los documentos auténticos (es decir, debidamente legalizados y tradott i in Forma oficial en la lengua italiana) expedidos por las autoridades competentes del país de procedencia que demuestre la composición de la familia (artículo 14, párrafo 1 del Decreto del Presidente de la República, 30 de mayo de 1989, no 223). Por lo que se refiere al permiso de residencia, debe precisarse que debe ser expedido por un motivo compatible con la residencia habitual, ya que su la propiedad importa que la inscripción debe tener lugar de acuerdo con las normas vigentes para los ciudadanos italianos, con la consecuencia que no resulta posible acoger un eventual petición de inscripción en el registro de la población residente cuando el permiso de estancia se expide para el turismo, para el cuidado, por ciertos motivos religiosos (por ejemplo: Peregrinación), por motivos humanitarios, por razones de especial protección, por razones de justicia y en todos los demás casos en que la razón por la que el permiso de residencia no permite o contraviene la residencia habitual (artículo 2 de la Ley de 24 de diciembre de 1954, 1228). En el caso de que la demanda se presentara a un municipio italiano distinto, procede rechazada por escrito y motivada, debidamente comunicada a la Parte proponente, con indicación de la autoridad a la que se recurrirá y de los plazos para un posible recurso. - No, no, no, no, no, no, no, no, no, no, no, no, no, no, no, no, no, no, no, no, no, no, no, no, no, no, no, no. 2) La instancia debe ser asumida por el consulado italiano, como Oficial del Gobierno en la circunscripción consular, territorialmente competente (artículo 7 decreto del Presidente de la República de 5 de enero de 1067, no 200), en todos los demás casos. Documentos que se adjuntarán a la instancia Los documentos que deben presentarse son los que figuran en la misma circular que se transcriben texto, con las notas y actualizaciones oportunas: 1) extracto del acta de nacimiento del buque italiano emigrado al extranjero, expedido por el municipio italiano donde Nacq ue; 2) actos de nacimiento, provistos de traducción oficial en la lengua italiana, de todos los suyos descendientes en línea recta, incluido el de la persona reivindicante la posesión de la ciudadanía italiana; es importante subrayar que los actos que deben presentarse deben Afectar a todos los descendientes del emigrante y no sólo a los que son ascendentes directamente de la persona que haya presentado la solicitud de reconocimiento de la posesión de la nacionalidad italiana. - No, no, no, no, no, no, no, no, no, no, no, no, no, no, no, no, no, no, no, no, no, no, no, no, no, no, no, no. 3) acto de matrimonio de la Comunidad italiana emigrado al extranjero, dotado de traducción oficial italiano si está formado en el extranjero; A pesar de que parece implícito, también debe presentarse el acto de muerte, ya que la obligación de de la transcripción de los actos del estado civil formados en el extranjero se refiere a todos los actos de Estado civil de los ciudadanos italianos. - No, no, no, no, no, no, no, no, no, no, no, no, no, no, no, no, no, no, no, no, no, no, no, no, no, no, no, no. 4) actos de matrimonio de sus descendientes, en línea recta, incluyendo los de sus padres la persona que reivindica la posesión de la nacionalidad italiana; A pesar de que parece implícito, también se deben presentar los posibles actos de muerte, en la obligación de transcribir los actos del Estado civil formados en el extranjero se refiere a: todos los actos de Estado civil relativos a ciudadanos italianos. - No, no, no, no, no, no, no, no, no, no, no, no, no, no, no, no, no, no, no, no, no, no, no, no, no, no, no, no. 5) certificado expedido por las autoridades competentes del Estado externo o de emigración, con traducción oficial en lengua italiana, que certificaba que yo era italiano a su tiempo emigrado de Italia no adquirió la nacionalidad del Estado extranjero de emigración antes del nacimiento del ascendente del interesado; - No, no, no, no, no, no, no, no, no, no, no, no, no, no, no, no, no, no, no, no, no, no, no, no, no, no, no, no. 6) certificado expedido por la autoridad consular italiana competente que certifica que: los ascendentes en línea recta ni la persona que reivindica la posesión de la ciudadanía Italia habÃ an renunciado alguna vez a los términos del art. 7 de la legge 13 giugn o 1912, n. 555; La referencia normativa debe ampliarse también al artículo 11 de la Ley n° 91 de 5 de febrero de 1992. período de residencia en el extranjero posterior al 15 de agosto de 1992. 7) certificado de residencia. La solicitud de dicho certificado se opuso en el momento en que la circular fue promulgada, con el art. 10 ley 4 de enero de 1968, n° 15, mientras que hoy contrasta con el art. 43 Decreto del Presidente de la República de 28 de diciembre de 2000, n. 445, que debe Se adquirirá de oficio, mientras que no se aplicará el recurso a las declaraciones Reemplazo de certificación, ya que se trata de extranjeros a los que se aplica el art. 3 Decreto del Presidente de la República de 28 de diciembre de 2000, no 445. Para todos los actos formales en el extranjero, es necesaria la legalización, a menos que se trate de de actos y documentos formados en países con los que existan convenios, tratados o acuerdos, tanto multilaterales como bilaterales, para la reducción o exención de la legalización (Art. 33 Decreto del Presidente de la República de 28 de diciembre de 2000, n. 445), así como la Traducido en forma oficial en la lengua española. Teniendo presente el artículo 3, párrafo 4 Decreto del Presidente de la República de 28 de diciembre de 2000, n. 445, la traducción debe común ser autenticada por la autoridad consular, previa advertencia sobre las consecuencias penales de la producción de actos o documentos no veraces, lo que se impone una limitación de lo previsto en el art. 33, párrafo 3 mismo decreto del Presidente de la República. - No, no, no, no, no, no, no, no, no, no, no, no, no, no, no, no, no, no, no, no, no, no, no, no, no, no, no, no. Debe tenerse en cuenta que legalización y traducción constituyen procedimientos administrativos distintos y separados, aunque puedan competir, por lo que siempre está Es necesario que el acto extranjero sea legalizado y, por supuesto, traducido. declaración de autenticidad de la traducción no constituye legalización del acto emitido en el extranjero. - No, no, no, no, no, no, no, no, no, no, no, no, no, no, no, no, no, no, no, no, no, no, no, no, no, no, no, no. Los documentos expedidos por las autoridades italianas deben haber cumplido el impuesto de timbre sin del origen, salvo en los casos de exención expresa, con la indicación de que la disposición En el documento se hace referencia a la legislación que prevé la exención. Acumulación de la Oficina de Gobierno tras la presentación de la instancia de Reconocimiento de la posesión de la nacionalidad italiana - No, no, no, no, no, no, no, no, no, no, no, no, no, no, no, no, no, no, no, no, no, no, no, no, no, no, no, no. Cuando se haya presentado una solicitud de reconocimiento de la posesión de la nacionalidad Oficial del Gobierno (alcalde, en caso de que el solicitante sea legalmente residente en Italia y, como tal, inscrito en el registro de población residente) - investigaciones en el municipio de nacimiento y en el municipio de migración, es decir, de última residencia en Italia, del inmigrado, así como en el municipio de Roma y en las representaciones diplomáticas y consulares en las que circunscripciones han habitado en la región y todos sus descendientes o, en su caso, Consulte al Ministerio de Asuntos Exteriores (Dirección General de Inmigración y Asuntos Exteriores) Asuntos Sociales, Oficina VII) con este fin. - No, no, no, no, no, no, no, no, no, no, no, no, no, no, no, no, no, no, no, no, no, no, no, no, no, no, no, no. Dichas comprobaciones se referirán a: En el municipio de nacimiento del emigrato: comprobación del nacimiento y certificación de la propiedad de la nacionalidad italiana en el nacimiento del emigrato. En el municipio de última residencia en Italia: comprobación de la propiedad de la nacionalidad italiana en el momento de la emigración, así como, en su caso, si los actos de matrimonio y de muerte del inmigrante hayan sido transcritos en los registros para los los actos del Estado civil y la eventual transcripción en dicho municipio de Los demás actos del Estado civil relativos a los descendientes del emigrato (incluso si se refieren a: las transcripciones no deberían haber tenido lugar en el marco del art. 51 Real Decreto de 9 de julio de 1939, n.o 1238, derogado desde el 30 de marzo de 2001). En el municipio de Roma: comprobación de la eventual transcripción de actos del estado civil relativo a los descendientes de la región de Emigrato (o, excepcionalmente, relativos a los descendientes de Emigrato) el mismo emigró), incluidos los relativos a quien presentó la solicitud. En otros municipios: en caso de que surjan hipótesis de que actos del Estado civil que, en su caso, hayan sido transcritos en otros municipios, Por lo que respecta a la cuestión de los derechos humanos, la Comisión considera que, en el marco de la política exterior y de seguridad común, la Unión Europea debe tener en cuenta, en particular, la situación de los derechos humanos y de los derechos humanos, así como la situación de los derechos humanos y de los derechos humanos, así como la situación de los derechos humanos y de las libertades fundamentales. las transcripciones hayan tenido una forma legítima o en violación de los criterios de competencia territorial establecida. - No, no, no, no, no, no, no, no, no, no, no, no, no, no, no, no, no, no, no, no, no, no, no, no, no, no, no, no. Al realizar las investigaciones, el funcionario del Gobierno debe tener en cuenta que el art. Por consiguiente, la Comisión considera que el artículo 51 del Real Decreto de 9 de julio de 1939, no 1238 dictaba criterios de competencia territorial para los actos de nacimiento, de matrimonio y de muerte, que eran distintos de los criterios dictados por el apartado 2 del artículo 63 para los actos de nacionalidad, no hayan sido transcritos en Italia actos de renuncia a la nacionalidad italiana efectuados a los términos del artículo 7 de la Ley de 13 de junio de 1912, no 555 y, a partir del 15 de agosto de 1992, a tenor del art. 11 legge 5 febbraio 1992, n. 91. - No, no, no, no, no, no, no, no, no, no, no, no, no, no, no, no, no, no, no, no, no, no, no, no, no, no, no, no. En las representaciones diplomáticas y consulares: comprobación de que yo había emigrado no había obtenido la nacionalidad extranjera, así como comprobaciones de que todos los descendientes del inmigrante, incluida la persona que presentó la solicitud, han renunciado nunca a la nacionalidad italiana (es decir, no han obtenido la nacionalidad extranjera por motivos distintos del nacimiento en el territorio del Estado Extranjero). Debiéndose llevar a cabo estas investigaciones ante las representaciones diplomáticas y Consulares territorialmente competentes y, Las pruebas pueden haber cambiado, con el tiempo, la vivienda en En el caso de que se presente una solicitud, en el caso de las circunscripciones consulares, corresponde a la persona que presente la solicitud indicar, en el En este contexto, las diferentes direcciones de vivienda que todos tenían en el extranjero, con la precisión de los épocas en las que habitaron allí. - No, no, no, no, no, no, no, no, no, no, no, no, no, no, no, no, no, no, no, no, no, no, no, no, no, no, no, no. Cuando el funcionario del Gobierno, después y después de la realización de la actividad de investigación y de comprobación documental mencionada anteriormente, haya comprobado la fundamentación de la la reclamación presentada con la instancia, adoptará medidas de certificación, por las que, entre otras cosas, dispondrá para la transcripción de los actos del Estado civil relativos a todos los interesados que: los daños causados a la posesión de la nacionalidad italiana a cargo del pretendiente. Si hasta el 29 de marzo de 2001 los actos de nacimiento, de matrimonio, de muerte debían ser transcritos en los municipios identificados con arreglo a los criterios establecidos en el artículo 51 del Real Decreto de 9 de julio de 1939, n° 1238 y los actos relativos a la nacionalidad transcritos en los municipios identificados según los criterios establecidos por el mismo Real Decreto art. 63, apartado 2, a partir del 30 de marzo de 2001 En aplicación del artículo 17 del Decreto del Presidente de la República de 3 de noviembre de 2000, No 396 y, en el caso de los actos de nacionalidad, el artículo 26 del Decreto del Presidente de la República 3 noviembre de 2000, n° 396. Independientemente de la referencia normativa, en cualquier caso, El artículo 17 del Decreto del Presidente de la Republic a 3 de noviembre de 2000, no 396 debe aplicarse Considerando que la morosidad de la transcripción sólo importa que se esté en presencia de una infracción de las disposiciones de las normas sobre el servicio del Estado civil, infracción hoy no ya sancionada, pero no viene a cambiar la competencia territorial, que se determina en relación con el municipio que habría sido competente en el caso de que la la transcripción se hubiera realizado a tiempo y, es decir, con referencia al municipio determinado según los criterios (entre ellos jerárquicos) del art. 17 decreto del Presidente de la República de 3 de noviembre de 2000, no 396 en el momento del evento individual (nacimiento, matrimonio, muerte), como si la obligación de transcripción hubiera sido oportuna absuelto. Una vez que se han realizado las trans ferencias de todos los actos, se han llevado a cabo las trans ferencias de todos los actos oficiales. del Gobierno que ha asegurado, podrá proceder a la adopción de otra certificación (artículo 16, apartado 8, Decreto del Presidente de la República de 12 de octubre de 1993, n° 572) en la que se realiza el perfeccionamiento o el procedimiento completo y al solicitante se podrá expedir un certificado de nacionalidad y organizar las comunicaciones al prefecto, al Ministerio del Interior, al Ministerio de Asuntos Exteriores, a la comisaría, a la oficina de registro, a la oficina electoral, a la oficina militar y demás. Esta certificación, tal como se define en la circular no K.21.1 de 8 de abril de 1991 como: Determinaciones, son actualmente objeto de transcripción (por resumen) en los registros del estado a la luz, hoy, del art. 24, párrafo 2 , letra b) decreto del Presidente de la República de 3 de noviembre de 2000, n° 396 y de anotación (artículo 49 del Decreto del Presidente) de la República de 3 de noviembre de 2000, no 396). - No, no, no, no, no, no, no, no, no, no, no, no, no, no, no, no, no, no, no, no, no, no, no, no, no, no, no, no. En el caso de que Oficial del Gobierno no sea el alcalde, al tratarse en persona no residente en Italia, el cumplimiento de los requisitos corresponde a la autoridad consular, En general, en términos similares y, una vez más, en este caso, la toma efectiva de de la condición de nacionalidad italiana (expedido de un certificado de nacionalidad y del pasaporte) sólo se llevará a cabo una vez que se haya perfeccionado todo el procedimiento. Si la circular no ha constituido una innovación particular, sino que se ha limitado a organizar de manera sencilla y clara lo que siempre debería haber sido haber sido hecho , su emanación constituye la señal de que los comportamientos materiales anteriores no siempre iban en la dirección en la que debían El fenómeno de los comportamientos materiales divergentes no resulta ser Se ha superado plenamente incluso después de su adopción, de modo que se desprende que no Siempre las indicaciones, elementales y claras, de la circular han tenido, a veces, los cuentas con modalidades operativas que no siempre han tenido debidamente en cuenta todas las El caso más frecuente de estas alteraciones en los comportamientos materiales es para lo que se han presentado instancias acompañadas Sólo de los actos de los descendientes del inmigrante que causaban al solicitante y no de todos los descendientes del inmigrante, con la consecuencia de que, a menudo, hermanos o primos (o, al límite, bis primos) tenían que repetir todo el proceso realizado de sus propios colaterales desde el principio, comportamientos a veces favorecidos incluso por el personal de las representaciones diplomáticas y económicas, por varios motivos, no menos importante que el de un enfoque formalista y la infravaloración de que estos procedimientos son el espejo de Fallos, infracciones reiteradas en el tiempo durante generaciones. - No, no, no, no, no, no, no, no, no, no, no, no, no, no, no, no, no, no, no, no, no, no, no, no, no, no, no, no. Si se comprueban estas alteraciones, en el momento de la demanda, no se hará en el curso de las investigaciones. y de las investigaciones que deban llevarse a cabo, debe prestarse la debida atención a la posibilidad que existen actos de estado civil ya transcritos, sin detenerse en el único municipio de nacimiento, de Emigración o el de Roma, pero aprovisionar las investigaciones ante todos los Por lo que se refiere a las relaciones entre la Comunidad Europea y los Estados Unidos de América, la Comisión considera que, en el marco de la cooperación entre la Comunidad y los Estados Unidos de América, la Comunidad y los países de la Europa central y oriental, la Comunidad y sus Estados miembros deben tener en cuenta las necesidades de los países de la Europa central y oriental, así como las de los países de la Europa central y oriental y de la Europa central y oriental, así como las de los países de la Europa central y oriental y de la Europa central y oriental, así como las de los países de la Europa central y oriental y de la Europa central y oriental y de los países de la Europa central y oriental y de la Europa central y oriental y de la Europa central y oriental y de los países de la Europa central y oriental y de los países de la Europa central y oriental. cualquier documentación, positiva o negativa, que permita evaluar la la existencia de las condiciones de derecho a la posesión de la nacionalidad italiana. En este sentido, la Comisión de Medio Ambiente, Salud Pública y Protección del Consumidor ha presentado una propuesta de directiva relativa a la aproximación de las disposiciones legales, reglamentarias y administrativas de los Estados miembros que limitan la comercialización y el uso de determinadas sustancias y preparados peligrosos, así como una propuesta de directiva relativa a la aproximación de las legislaciones de los Estados miembros en materia de productos alimenticios. reconocimiento de la propiedad de la condición de nacionalidad italiana, podrá facilitar al solicitante que pueda proporcionar indicaciones y/o producir los actos relativos, aunque emitidos por municipios distintos del de residencia actual del Hasta el punto en que tales actos pueden sustituir a los actos auténticos emitidos en el Estado extranjero. - No, no, no, no, no, no, no, no, no, no, no, no, no, no, no, no, no, no, no, no, no, no, no, no, no, no, no, no.'"
            ],
            "application/vnd.google.colaboratory.intrinsic+json": {
              "type": "string"
            }
          },
          "metadata": {},
          "execution_count": 51
        }
      ]
    },
    {
      "cell_type": "code",
      "source": [
        "write_csv(circolareK28_traducido, 'circolareK28')\n",
        "write_csv(circolare32_traducido, 'circolare32')"
      ],
      "metadata": {
        "id": "HQq3qKzHPGCM"
      },
      "execution_count": 57,
      "outputs": []
    }
  ]
}